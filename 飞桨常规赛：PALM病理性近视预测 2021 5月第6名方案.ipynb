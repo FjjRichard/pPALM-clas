{
 "cells": [
  {
   "cell_type": "code",
   "execution_count": null,
   "metadata": {
    "collapsed": false
   },
   "outputs": [],
   "source": [
    "# ! unzip -oq /home/aistudio/data/data85133/常规赛：PALM病理性近视预测.zip\r\n",
    "# ! rm -rf __MACOSX\r\n",
    "# ! mv 常规赛：PALM病理性近视预测 PLAM"
   ]
  },
  {
   "cell_type": "code",
   "execution_count": null,
   "metadata": {
    "collapsed": false
   },
   "outputs": [],
   "source": [
    "# !git clone https://gitee.com/paddlepaddle/PaddleClas.git -b release/2.0"
   ]
  },
  {
   "cell_type": "code",
   "execution_count": null,
   "metadata": {
    "collapsed": false
   },
   "outputs": [],
   "source": [
    "!mkdir pretrained\r\n",
    "%cd /home/aistudio/pretrained\r\n",
    "!wget https://paddle-imagenet-models-name.bj.bcebos.com/dygraph/ResNet50_vd_pretrained.pdparams\r\n",
    "!wget https://paddle-imagenet-models-name.bj.bcebos.com/dygraph/ResNet50_vd_ssld_pretrained.pdparams"
   ]
  },
  {
   "cell_type": "markdown",
   "metadata": {
    "collapsed": false
   },
   "source": [
    "###  创建train.txt  和 val.txt"
   ]
  },
  {
   "cell_type": "code",
   "execution_count": null,
   "metadata": {
    "collapsed": false
   },
   "outputs": [],
   "source": [
    "import os\r\n",
    "import pandas as pd\r\n",
    "import random\r\n",
    "random.seed(2020)\r\n",
    "class_xls='/home/aistudio/PLAM/Train/Classification.xlsx'\r\n",
    "data_path='/home/aistudio/PLAM/Train/fundus_image'\r\n",
    "\r\n",
    "train_f = open('/home/aistudio/PLAM/Train/train.txt','w') \r\n",
    "val_f = open('/home/aistudio/PLAM/Train/val.txt' ,'w')\r\n",
    "\r\n",
    "name_label = pd.read_excel(class_xls).values\r\n",
    "ratio = int(0.85 * len(name_label))\r\n",
    "random.shuffle(name_label)\r\n",
    "for i ,data in enumerate(name_label):\r\n",
    "    name , label = data\r\n",
    "    data_path = os.path.join(data_path, name)\r\n",
    "    content = data_path  + ' ' + str(label) + '\\n'\r\n",
    "    print(content)\r\n",
    "    if i < ratio :\r\n",
    "        train_f.write(content)\r\n",
    "    else:\r\n",
    "        val_f.write(content)\r\n",
    "\r\n",
    "train_f.close()\r\n",
    "val_f.close()"
   ]
  },
  {
   "cell_type": "code",
   "execution_count": null,
   "metadata": {
    "collapsed": false
   },
   "outputs": [
    {
     "name": "stdout",
     "output_type": "stream",
     "text": [
      "完成\n"
     ]
    }
   ],
   "source": [
    "import os\r\n",
    "import random\r\n",
    "contents = list()\r\n",
    "with open('/home/aistudio/PLAM/Train/train.txt', 'r') as f:\r\n",
    "    for line in f.readlines():\r\n",
    "        contents.append(line.strip())\r\n",
    "with open('/home/aistudio/PLAM/Train/val.txt', 'r') as f:\r\n",
    "    for line in f.readlines():\r\n",
    "        contents.append(line.strip())\r\n",
    "random.seed(2021)\r\n",
    "random.shuffle(contents)\r\n",
    "\r\n",
    "rate = int(len(contents) * 0.8)#训练集和测试集8：2\r\n",
    "train_txt = open('/home/aistudio/PLAM/Train/train_new.txt','w')\r\n",
    "val_txt = open('/home/aistudio/PLAM/Train/val_new.txt','w')\r\n",
    "for i,line in enumerate(contents):\r\n",
    "    if i < rate:\r\n",
    "        train_txt.write(line +'\\n')\r\n",
    "    else:\r\n",
    "        val_txt.write(line +'\\n')\r\n",
    "train_txt.close()\r\n",
    "val_txt.close()\r\n",
    "print('完成')"
   ]
  },
  {
   "cell_type": "code",
   "execution_count": null,
   "metadata": {
    "collapsed": false
   },
   "outputs": [],
   "source": [
    "%cd /home/aistudio/PaddleClas\r\n",
    "!python3 tools/train.py -c ./configs/quick_start/ResNet50_vd_ssld_random_erasing_finetune.yaml"
   ]
  },
  {
   "cell_type": "code",
   "execution_count": null,
   "metadata": {
    "collapsed": false
   },
   "outputs": [],
   "source": [
    "!python tools/eval.py \\\r\n",
    "    -c ./configs/quick_start/ResNet50_vd_ssld_random_erasing_finetune.yaml \\\r\n",
    "    -o pretrained_model=\"./output/ResNet50_vd/best_model/ppcls\"\\\r\n",
    "    -o load_static_weights=False"
   ]
  },
  {
   "cell_type": "markdown",
   "metadata": {
    "collapsed": false
   },
   "source": [
    "### 导出模型"
   ]
  },
  {
   "cell_type": "code",
   "execution_count": 5,
   "metadata": {
    "collapsed": false
   },
   "outputs": [],
   "source": [
    "!python tools/export_model.py \\\r\n",
    "    --model ResNet50_vd \\\r\n",
    "    --pretrained_model ./output/ResNet50_vd/best_model/ppcls \\\r\n",
    "    --output_path ./inference \\\r\n",
    "    --class_dim=2"
   ]
  },
  {
   "cell_type": "markdown",
   "metadata": {
    "collapsed": false
   },
   "source": [
    "### 预测结果生成Classification_Results.csv\n"
   ]
  },
  {
   "cell_type": "code",
   "execution_count": null,
   "metadata": {
    "collapsed": false
   },
   "outputs": [],
   "source": [
    "!python tools/infer/predict.py \\\r\n",
    "    -i '/home/aistudio/PLAM/PALM-Testing400-Images/' \\\r\n",
    "    --model_file \"./inference/inference.pdmodel\" \\\r\n",
    "    --params_file \"./inference/inference.pdiparams\" \\\r\n",
    "    --use_gpu=True \\\r\n",
    "    --use_tensorrt=False \\\r\n",
    "    --class_num=2"
   ]
  }
 ],
 "metadata": {
  "kernelspec": {
   "display_name": "PaddlePaddle 2.0.0b0 (Python 3.5)",
   "language": "python",
   "name": "py35-paddle1.2.0"
  },
  "language_info": {
   "codemirror_mode": {
    "name": "ipython",
    "version": 3
   },
   "file_extension": ".py",
   "mimetype": "text/x-python",
   "name": "python",
   "nbconvert_exporter": "python",
   "pygments_lexer": "ipython3",
   "version": "3.7.4"
  }
 },
 "nbformat": 4,
 "nbformat_minor": 1
}
